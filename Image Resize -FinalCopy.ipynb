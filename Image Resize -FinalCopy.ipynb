{
 "cells": [
  {
   "cell_type": "code",
   "execution_count": 6,
   "metadata": {
    "scrolled": true
   },
   "outputs": [
    {
     "name": "stdout",
     "output_type": "stream",
     "text": [
      "Enter the Pixels 400\n",
      "200\n",
      "C:\\Users\\Mayu\\Desktop\\images\\watermarked\\New folder\n",
      "Converted pixels (400, 200)\n",
      "Converted pixels (400, 200)\n",
      "Converted pixels (400, 200)\n",
      "DONE!!!!!!\n"
     ]
    }
   ],
   "source": [
    "import cv2\n",
    "import os\n",
    "\n",
    "a,b=int(input(\"Enter the Pixels \")),int(input(\"\"))\n",
    "\n",
    "current_dir=os.getcwd()\n",
    "print(current_dir)\n",
    "files=os.listdir(current_dir)\n",
    "\n",
    "for i in range(0,len(files)):\n",
    "    if (files[i][-4:])==(\".jpg\" or \".png\"):\n",
    "        path=os.path.join(current_dir,files[i])        \n",
    "        img=cv2.imread(path)\n",
    "        resize=cv2.resize(img,(b,a))\n",
    "        h,b,_= resize.shape\n",
    "        print(\"Converted pixels\",(h,b))\n",
    "        cv2.imwrite(\"Converter.jpg\",resize)\n",
    "print(\"DONE!!!!!!\")\n"
   ]
  },
  {
   "cell_type": "code",
   "execution_count": null,
   "metadata": {},
   "outputs": [],
   "source": []
  }
 ],
 "metadata": {
  "kernelspec": {
   "display_name": "Python 3",
   "language": "python",
   "name": "python3"
  },
  "language_info": {
   "codemirror_mode": {
    "name": "ipython",
    "version": 3
   },
   "file_extension": ".py",
   "mimetype": "text/x-python",
   "name": "python",
   "nbconvert_exporter": "python",
   "pygments_lexer": "ipython3",
   "version": "3.8.2"
  }
 },
 "nbformat": 4,
 "nbformat_minor": 4
}
